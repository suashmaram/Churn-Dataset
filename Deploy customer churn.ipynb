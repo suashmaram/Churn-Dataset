{
 "cells": [
  {
   "cell_type": "code",
   "execution_count": 1,
   "id": "5ee592cd",
   "metadata": {},
   "outputs": [],
   "source": [
    "import gradio as gr\n"
   ]
  },
  {
   "cell_type": "code",
   "execution_count": 2,
   "id": "b261b269",
   "metadata": {},
   "outputs": [],
   "source": [
    "import pickle"
   ]
  },
  {
   "cell_type": "code",
   "execution_count": 3,
   "id": "b208aa6d",
   "metadata": {},
   "outputs": [],
   "source": [
    "import warnings\n",
    "warnings.filterwarnings('ignore')"
   ]
  },
  {
   "cell_type": "code",
   "execution_count": 4,
   "id": "b122454a",
   "metadata": {},
   "outputs": [],
   "source": [
    "# load a trained model in this file\n",
    "with open('final_model.pkl','rb')as file:\n",
    "    loaded_model=pickle.load(file)"
   ]
  },
  {
   "cell_type": "code",
   "execution_count": 5,
   "id": "34eded87",
   "metadata": {},
   "outputs": [],
   "source": [
    "# prediction function\n",
    "def prediction(cs,geo,age,tenure,bal,nop,cc,am,sal,gen):\n",
    "    input_data=[[cs,geo,age,tenure,bal,nop,cc,am,sal,gen]]\n",
    "    pred=loaded_model.predict(input_data)[0]\n",
    "    \n",
    "    if pred ==0:\n",
    "        return \"not at risk\"\n",
    "    else:\n",
    "        return \"at risk\""
   ]
  },
  {
   "cell_type": "code",
   "execution_count": 6,
   "id": "9aae0590",
   "metadata": {},
   "outputs": [
    {
     "data": {
      "text/plain": [
       "'not at risk'"
      ]
     },
     "execution_count": 6,
     "metadata": {},
     "output_type": "execute_result"
    }
   ],
   "source": [
    "prediction(560,2253,33,3,0,1,0,0,2000,1)"
   ]
  },
  {
   "cell_type": "code",
   "execution_count": 11,
   "id": "dfa2ea54",
   "metadata": {},
   "outputs": [],
   "source": [
    "### Interface\n",
    "\n",
    "iface= gr.Interface(fn=prediction,inputs=[gr.Number(label='enter the credit score'),\n",
    "                                          gr.Dropdown([('France',4522),('germany',2255),('spain',2223)],label='select country'),\n",
    "                                          gr.Slider(minimum=18,maximum=100,step=1,label='select Age'),\n",
    "                                          gr.Number(label='enter Tenure'),\n",
    "                                          gr.Number(label='enter the balance in the account'),\n",
    "                                          gr.Dropdown([1,2,3,4],label='enter the no of products with the customer'),\n",
    "                                          gr.Dropdown([('yes',1),('no',0)],label='Does the customer has credit score'),\n",
    "                                          gr.Dropdown([('yes',1),('no',0)],label='is customer an active member'),\n",
    "                                          gr.Number(label='what is the estimated salary of the customer?'),\n",
    "                                          gr.Dropdown([('male',1),('female',0)],label='select gender')]\n",
    "                    ,outputs=gr.Textbox(label='Status'),\n",
    "                   title='hyderabad public bank',\n",
    "                   description='enter details of the customer to predict',\n",
    "                   allow_flagging='never')"
   ]
  },
  {
   "cell_type": "code",
   "execution_count": 12,
   "id": "f674c5c8",
   "metadata": {},
   "outputs": [
    {
     "name": "stdout",
     "output_type": "stream",
     "text": [
      "Running on local URL:  http://127.0.0.1:7861\n",
      "\n",
      "To create a public link, set `share=True` in `launch()`.\n"
     ]
    },
    {
     "data": {
      "text/html": [
       "<div><iframe src=\"http://127.0.0.1:7861/\" width=\"100%\" height=\"500\" allow=\"autoplay; camera; microphone; clipboard-read; clipboard-write;\" frameborder=\"0\" allowfullscreen></iframe></div>"
      ],
      "text/plain": [
       "<IPython.core.display.HTML object>"
      ]
     },
     "metadata": {},
     "output_type": "display_data"
    },
    {
     "data": {
      "text/plain": []
     },
     "execution_count": 12,
     "metadata": {},
     "output_type": "execute_result"
    }
   ],
   "source": [
    "iface.launch()"
   ]
  },
  {
   "cell_type": "code",
   "execution_count": null,
   "id": "1946fc2a",
   "metadata": {},
   "outputs": [],
   "source": []
  }
 ],
 "metadata": {
  "kernelspec": {
   "display_name": "Python 3 (ipykernel)",
   "language": "python",
   "name": "python3"
  },
  "language_info": {
   "codemirror_mode": {
    "name": "ipython",
    "version": 3
   },
   "file_extension": ".py",
   "mimetype": "text/x-python",
   "name": "python",
   "nbconvert_exporter": "python",
   "pygments_lexer": "ipython3",
   "version": "3.11.5"
  }
 },
 "nbformat": 4,
 "nbformat_minor": 5
}
